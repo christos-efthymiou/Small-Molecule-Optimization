{
 "cells": [
  {
   "cell_type": "code",
   "execution_count": 27,
   "id": "45958426-1269-4d19-bd3e-9d98f8b37e62",
   "metadata": {},
   "outputs": [
    {
     "data": {
      "application/vnd.jupyter.widget-view+json": {
       "model_id": "2bc6edaf86bc4083ac281c620e837a88",
       "version_major": 2,
       "version_minor": 0
      },
      "text/plain": [
       "Text(value='', description='SMILES:', placeholder='Type your SMILES here')"
      ]
     },
     "metadata": {},
     "output_type": "display_data"
    },
    {
     "data": {
      "application/vnd.jupyter.widget-view+json": {
       "model_id": "d96387d8db4741e6a9b53cae3f8eaece",
       "version_major": 2,
       "version_minor": 0
      },
      "text/plain": [
       "Button(description='Generate Molecules', style=ButtonStyle())"
      ]
     },
     "metadata": {},
     "output_type": "display_data"
    },
    {
     "data": {
      "application/vnd.jupyter.widget-view+json": {
       "model_id": "b8dc507d3f764aec8466e2ac51899251",
       "version_major": 2,
       "version_minor": 0
      },
      "text/plain": [
       "Output()"
      ]
     },
     "metadata": {},
     "output_type": "display_data"
    }
   ],
   "source": [
    "import ipywidgets as widgets\n",
    "from IPython.display import display\n",
    "import subprocess\n",
    "\n",
    "# Function to update the SMILES file with user input\n",
    "def update_smiles_file(smiles):\n",
    "    with open('mol2mol.smi', 'w') as file:\n",
    "        file.write(smiles + '\\t' + 'UserInput')\n",
    "\n",
    "# Function to run REINVENT\n",
    "#def run_reinvent():\n",
    "#    cmd = 'python ./REINVENT4/reinvent/Reinvent.py -l mol2mol.log mol2mol.toml'\n",
    "#    process = subprocess.run(cmd, shell=True, text=True, capture_output=True)\n",
    "#    print(process.stdout)  # Optionally print any output for debugging\n",
    "#    return process.stdout\n",
    "\n",
    "# Function to run REINVENT\n",
    "def run_reinvent():\n",
    "    cmd = 'python ./REINVENT4/reinvent/Reinvent.py -l mol2mol.log mol2mol.toml'\n",
    "    print(\"Running command:\", cmd)  # Print the command to verify it\n",
    "    process = subprocess.run(cmd, shell=True, text=True, capture_output=True)\n",
    "    print(\"STDOUT:\", process.stdout)  # Print standard output for debugging\n",
    "    print(\"STDERR:\", process.stderr)  # Print errors to identify issues\n",
    "    return process.stdout\n",
    "\n",
    "# Widget setup\n",
    "smiles_input = widgets.Text(\n",
    "    value='',\n",
    "    placeholder='Type your SMILES here',\n",
    "    description='SMILES:',\n",
    "    disabled=False\n",
    ")\n",
    "button = widgets.Button(description=\"Generate Molecules\")\n",
    "output = widgets.Output()\n",
    "\n",
    "display(smiles_input, button, output)\n",
    "\n",
    "# Button click event handler\n",
    "def on_button_clicked(b):\n",
    "    with output:\n",
    "        print(\"Generating molecules for SMILES: \", smiles_input.value)\n",
    "        # Update the SMILES file with the user's input\n",
    "        update_smiles_file(smiles_input.value)\n",
    "        # Call REINVENT to generate molecules\n",
    "        run_reinvent()\n",
    "\n",
    "button.on_click(on_button_clicked)\n"
   ]
  },
  {
   "cell_type": "code",
   "execution_count": 1,
   "id": "209b1919-b901-422c-94d5-fb87e759ebd2",
   "metadata": {},
   "outputs": [
    {
     "name": "stdout",
     "output_type": "stream",
     "text": [
      "Current Directory: C:\\Users\\chris\\OneDrive\\Documents\\GitHub\\Small-Molecule-Optimization\n",
      "Output: usage: Reinvent.py [-h] [-f FORMAT] [-d DEV] [-l FILE] [--log-level LEVEL]\n",
      "                   [-s N] [--dotenv-filename FILE]\n",
      "                   [--enable-rdkit-log-levels LEVEL [LEVEL ...]] [-V]\n",
      "                   [FILE]\n",
      "\n",
      "REINVENT: a molecular design tool for de novo design, scaffold hopping,\n",
      "R-group replacement, linker design, molecule optimization, and others\n",
      "\n",
      "positional arguments:\n",
      "  FILE                  Input configuration file with runtime parameters\n",
      "                        (default: None)\n",
      "\n",
      "options:\n",
      "  -h, --help            show this help message and exit\n",
      "  -f FORMAT, --config-format FORMAT\n",
      "                        File format of the configuration file: toml, json\n",
      "                        (default: toml)\n",
      "  -d DEV, --device DEV  Device to run on: cuda, cpu. Overwrites setting in the\n",
      "                        configuration file. (default: None)\n",
      "  -l FILE, --log-filename FILE\n",
      "                        File for logging information, otherwise writes to\n",
      "                        stderr. (default: None)\n",
      "  --log-level LEVEL     Enable this and 'higher' log levels: critical, fatal,\n",
      "                        error, warn, warning, info, debug, notset. (default:\n",
      "                        info)\n",
      "  -s N, --seed N        Sets the random seeds for reproducibility (default:\n",
      "                        None)\n",
      "  --dotenv-filename FILE\n",
      "                        Dotenv file with environment setup needed for some\n",
      "                        scoring components. By default the one from the\n",
      "                        installation directory will be loaded. (default: None)\n",
      "  --enable-rdkit-log-levels LEVEL [LEVEL ...]\n",
      "                        Enable specific RDKit log levels: all, error, warning,\n",
      "                        info, debug. (default: None)\n",
      "  -V, --version         show program's version number and exit\n",
      "\n",
      "REINVENT 4.2.5 (C) AstraZeneca 2017, 2023\n",
      "\n",
      "Errors: \n"
     ]
    }
   ],
   "source": [
    "import subprocess\n",
    "import os\n",
    "\n",
    "# Print the current working directory for reference\n",
    "print(\"Current Directory:\", os.getcwd())\n",
    "\n",
    "# Define the command with the full path to the reinvent executable\n",
    "cmd = 'python ./REINVENT4/reinvent/Reinvent.py --help'\n",
    "\n",
    "# Run the command\n",
    "process = subprocess.run(cmd, shell=True, text=True, capture_output=True)\n",
    "\n",
    "# Print the output and any errors\n",
    "print(\"Output:\", process.stdout)\n",
    "print(\"Errors:\", process.stderr)\n"
   ]
  },
  {
   "cell_type": "code",
   "execution_count": null,
   "id": "81b9331f-039e-4ecf-aa02-1fae86a1ee77",
   "metadata": {},
   "outputs": [],
   "source": []
  }
 ],
 "metadata": {
  "kernelspec": {
   "display_name": "Python 3 (ipykernel)",
   "language": "python",
   "name": "python3"
  },
  "language_info": {
   "codemirror_mode": {
    "name": "ipython",
    "version": 3
   },
   "file_extension": ".py",
   "mimetype": "text/x-python",
   "name": "python",
   "nbconvert_exporter": "python",
   "pygments_lexer": "ipython3",
   "version": "3.11.5"
  }
 },
 "nbformat": 4,
 "nbformat_minor": 5
}
