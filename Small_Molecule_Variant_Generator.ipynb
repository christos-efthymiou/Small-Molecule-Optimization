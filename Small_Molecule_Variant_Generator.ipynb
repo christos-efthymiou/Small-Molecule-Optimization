{
 "cells": [
  {
   "cell_type": "markdown",
   "id": "6d4c2252-aa69-427f-86b8-e118c0892237",
   "metadata": {},
   "source": [
    "# SMILES Molecule Generation and Analysis\r\n",
    "\r\n",
    "This notebook provides tools for generating new molecular structures from input SMILES (Simplified Molecular Input Line Entry System) strings using the REINVENT framework, and for analyzing these molecules based on various chemical properties using RDKit. The results are ranked to help identify promising drug candidates based on drug-likeness and other ADMET properties.\r\n"
   ]
  },
  {
   "cell_type": "markdown",
   "id": "1b7dc26f-5c3d-41d4-a5ea-accd15d9b367",
   "metadata": {},
   "source": [
    "# Molecule Generation\n",
    "Run the cell below and you will be prompted to enter a SMILES string using the text field below. Upon clicking the \"Generate Molecules\" button, the REINVENT framework will generate new molecular structures as SMILES strings and save them in a file called sampling.csv. This process integrates deep learning models to predict molecular properties and generate novel compounds based on the input structure. "
   ]
  },
  {
   "cell_type": "code",
   "execution_count": 3,
   "id": "45958426-1269-4d19-bd3e-9d98f8b37e62",
   "metadata": {},
   "outputs": [
    {
     "data": {
      "application/vnd.jupyter.widget-view+json": {
       "model_id": "0d1ded741c1d4d8b94a895a2d8bb2582",
       "version_major": 2,
       "version_minor": 0
      },
      "text/plain": [
       "Text(value='', description='SMILES:', placeholder='Type your SMILES here')"
      ]
     },
     "metadata": {},
     "output_type": "display_data"
    },
    {
     "data": {
      "application/vnd.jupyter.widget-view+json": {
       "model_id": "b9e8431a0b1f4e06944269f6fc431aee",
       "version_major": 2,
       "version_minor": 0
      },
      "text/plain": [
       "Button(description='Generate Molecules', style=ButtonStyle())"
      ]
     },
     "metadata": {},
     "output_type": "display_data"
    },
    {
     "data": {
      "application/vnd.jupyter.widget-view+json": {
       "model_id": "7d6053d1bba144eba08d1ef82bec25a7",
       "version_major": 2,
       "version_minor": 0
      },
      "text/plain": [
       "Output()"
      ]
     },
     "metadata": {},
     "output_type": "display_data"
    }
   ],
   "source": [
    "import ipywidgets as widgets\n",
    "from IPython.display import display\n",
    "\n",
    "# Function to update the SMILES file with user input\n",
    "def update_smiles_file(smiles):\n",
    "    with open('mol2mol.smi', 'w') as file:\n",
    "        file.write(smiles + '\\t' + 'UserInput')\n",
    "\n",
    "# Widget setup\n",
    "smiles_input = widgets.Text(\n",
    "    value='',\n",
    "    placeholder='Type your SMILES here',\n",
    "    description='SMILES:',\n",
    "    disabled=False\n",
    ")\n",
    "button = widgets.Button(description=\"Generate Molecules\")\n",
    "output = widgets.Output()\n",
    "\n",
    "display(smiles_input, button, output)\n",
    "\n",
    "# Button click event handler\n",
    "def on_button_clicked(b):\n",
    "    with output:\n",
    "        print(\"Generating molecules for SMILES: \", smiles_input.value)\n",
    "        # Update the SMILES file with the user's input\n",
    "        update_smiles_file(smiles_input.value)\n",
    "        # Directly run REINVENT from the Jupyter notebook\n",
    "        print(\"Running REINVENT...\")\n",
    "        !reinvent mol2mol.toml\n",
    "\n",
    "button.on_click(on_button_clicked)"
   ]
  },
  {
   "cell_type": "markdown",
   "id": "8b2d6d36-e874-439c-9188-b663c70aef10",
   "metadata": {},
   "source": [
    "## Property Calculation\n",
    "\n",
    "After generating the molecules, the notebook calculates various molecular properties using RDKit. These properties include molecular weight, logP, the number of hydrogen bond donors and acceptors, and topological polar surface area (TPSA). This data is crucial for assessing the drug-likeness of the molecules.\n",
    "## Dynamic Visualization\n",
    "\n",
    "The properties of the generated molecules are displayed below in a dynamic table. You can select which properties to display from the dropdown menu by holding control and clicking on the properties you want displayed. This interactivity allows for a tailored analysis according to specific needs or interests. The results are also saved as a CSV file called smiles_characteristics.csv."
   ]
  },
  {
   "cell_type": "code",
   "execution_count": 2,
   "id": "fea3a45e-c068-439c-b08d-82cc38bd87c7",
   "metadata": {},
   "outputs": [
    {
     "data": {
      "application/vnd.jupyter.widget-view+json": {
       "model_id": "f2d37f7502804f9ea29d358968369130",
       "version_major": 2,
       "version_minor": 0
      },
      "text/plain": [
       "SelectMultiple(description='Columns', index=(0, 4, 5, 6, 7), options=('SMILES', 'Input_SMILES', 'Tanimoto', 'N…"
      ]
     },
     "metadata": {},
     "output_type": "display_data"
    },
    {
     "data": {
      "application/vnd.jupyter.widget-view+json": {
       "model_id": "0645ebc06fb44301ae6aee76f18d9168",
       "version_major": 2,
       "version_minor": 0
      },
      "text/plain": [
       "Output()"
      ]
     },
     "metadata": {},
     "output_type": "display_data"
    }
   ],
   "source": [
    "import pandas as pd\n",
    "from rdkit import Chem\n",
    "from rdkit.Chem import Descriptors\n",
    "import ipywidgets as widgets\n",
    "from IPython.display import display, clear_output\n",
    "\n",
    "# Load the CSV file and calculate properties\n",
    "def load_and_compute_properties(csv_file):\n",
    "    df = pd.read_csv(csv_file)\n",
    "    properties = {\n",
    "        'MolWt': Descriptors.MolWt,\n",
    "        'LogP': Descriptors.MolLogP,\n",
    "        'NumHDonors': Descriptors.NumHDonors,\n",
    "        'NumHAcceptors': Descriptors.NumHAcceptors\n",
    "    }\n",
    "    \n",
    "    for prop in properties.keys():\n",
    "        df[prop] = None\n",
    "\n",
    "    for index, row in df.iterrows():\n",
    "        mol = Chem.MolFromSmiles(row['SMILES'])\n",
    "        if mol:\n",
    "            for prop, func in properties.items():\n",
    "                df.at[index, prop] = func(mol)\n",
    "    \n",
    "    return df\n",
    "\n",
    "# Function to display DataFrame in a dynamic table\n",
    "def display_properties_table(dataframe):\n",
    "    # Create a multi-select widget for selecting properties to display\n",
    "    options = list(dataframe.columns)\n",
    "    select_widget = widgets.SelectMultiple(\n",
    "        options=options,\n",
    "        value=['SMILES', 'MolWt', 'LogP', 'NumHDonors', 'NumHAcceptors'],\n",
    "        description='Columns',\n",
    "        disabled=False\n",
    "    )\n",
    "\n",
    "    output_area = widgets.Output()\n",
    "    display(select_widget, output_area)\n",
    "\n",
    "    #Write results to CSV file\n",
    "    dataframe.to_csv('smiles_characteristics.csv', index=False)\n",
    "\n",
    "    def update_table(change):\n",
    "        with output_area:\n",
    "            clear_output(wait=True)  # Clear the previous output\n",
    "            display(dataframe[list(select_widget.value)])  # Display the new table based on selection\n",
    "\n",
    "    select_widget.observe(update_table, names='value')\n",
    "    update_table(None)  # Initialize view\n",
    "\n",
    "# Example usage\n",
    "df_properties = load_and_compute_properties('sampling.csv')\n",
    "display_properties_table(df_properties)\n"
   ]
  },
  {
   "cell_type": "markdown",
   "id": "78bb9e6b-919d-472b-abf9-a2dd4efe9b64",
   "metadata": {},
   "source": [
    "## Ranking and Results Download\r\n",
    "\r\n",
    "The molecules are ranked based on their computed properties, and their scores are calculated to reflect their potential as drug candidates. The table below displays the top-ranked moleculesThe results are also saved as a CSV file called ranked_smiles.csvle for further analysis or reporting.\r\n",
    "\r\n",
    "**Note**: The 'Score' column is a summation of the individual property values and serves as a simplified metric to gauge the overall promise of each molecule as a drug candidate.\r\n"
   ]
  },
  {
   "cell_type": "code",
   "execution_count": 3,
   "id": "81b9331f-039e-4ecf-aa02-1fae86a1ee77",
   "metadata": {},
   "outputs": [
    {
     "data": {
      "application/vnd.jupyter.widget-view+json": {
       "model_id": "763e4589dd294689937e80e8bb10b5cf",
       "version_major": 2,
       "version_minor": 0
      },
      "text/plain": [
       "SelectMultiple(description='Columns', index=(0, 4, 5, 9, 10, 11, 12), options=('SMILES', 'Input_SMILES', 'Tani…"
      ]
     },
     "metadata": {},
     "output_type": "display_data"
    },
    {
     "data": {
      "application/vnd.jupyter.widget-view+json": {
       "model_id": "806d6adfd406459e8819fa571c7e7d16",
       "version_major": 2,
       "version_minor": 0
      },
      "text/plain": [
       "Output()"
      ]
     },
     "metadata": {},
     "output_type": "display_data"
    }
   ],
   "source": [
    "from rdkit.Chem import Crippen, QED, rdMolDescriptors\n",
    "import numpy as np\n",
    "\n",
    "def calculate_properties(df):\n",
    "    df['Mol'] = df['SMILES'].apply(Chem.MolFromSmiles)\n",
    "    df['MolWt'] = df['Mol'].apply(Descriptors.MolWt)\n",
    "    df['LogP'] = df['Mol'].apply(Crippen.MolLogP)\n",
    "    df['NumHDonors'] = df['Mol'].apply(Descriptors.NumHDonors)\n",
    "    df['NumHAcceptors'] = df['Mol'].apply(Descriptors.NumHAcceptors)\n",
    "    df['TPSA'] = df['Mol'].apply(rdMolDescriptors.CalcTPSA)\n",
    "    df['QED'] = df['Mol'].apply(QED.qed)\n",
    "    \n",
    "    # Lipinski's Rule of Five\n",
    "    df['Ro5'] = ((df['MolWt'] <= 500) & \n",
    "                 (df['LogP'] <= 5) & \n",
    "                 (df['NumHDonors'] <= 5) & \n",
    "                 (df['NumHAcceptors'] <= 10)).astype(int)\n",
    "    \n",
    "    # Simple ranking score (the more rules met, the better)\n",
    "    df['Score'] = df[['MolWt', 'LogP', 'NumHDonors', 'NumHAcceptors', 'TPSA', 'QED', 'Ro5']].sum(axis=1)\n",
    "    return df\n",
    "\n",
    "# Load and calculate properties\n",
    "df_properties = load_and_compute_properties('sampling.csv')\n",
    "df_ranked = calculate_properties(df_properties)\n",
    "\n",
    "# Sort by score (high score = more promising candidate)\n",
    "df_ranked.sort_values(by='Score', ascending=False, inplace=True)\n",
    "\n",
    "def display_ranked_properties(df):\n",
    "    select_widget = widgets.SelectMultiple(\n",
    "        options=list(df.columns),\n",
    "        value=['SMILES', 'MolWt', 'LogP', 'TPSA', 'QED', 'Ro5', 'Score'],\n",
    "        description='Columns',\n",
    "        disabled=False\n",
    "    )\n",
    "\n",
    "    output_area = widgets.Output()\n",
    "    display(select_widget, output_area)\n",
    "\n",
    "    # Save the complete DataFrame to a CSV file\n",
    "    df.to_csv('ranked_smiles.csv', index=False)\n",
    "\n",
    "    def update_table(change):\n",
    "        with output_area:\n",
    "            clear_output(wait=True)\n",
    "            display(df[list(select_widget.value)].head(10))  # Display top 10 molecules\n",
    "\n",
    "    select_widget.observe(update_table, names='value')\n",
    "    update_table(None)  # Initialize view\n",
    "\n",
    "display_ranked_properties(df_ranked)\n"
   ]
  },
  {
   "cell_type": "markdown",
   "id": "a8c1a411-3b29-4069-beb4-1a0cd9f7a11c",
   "metadata": {},
   "source": [
    "## Interactive 3D Visualization of Molecules\r\n",
    "\r\n",
    "This section of the notebook allows you to interactively visualize the molecular structures generated from SMILES strings. Select a molecule from the dropdown menu to view its 3D structure rendered below. This feature uses Py3Dmol, a powerful library for visualizing molecular structures in three dimensions directly within the Jupyter notebook.\r\n",
    "\r\n",
    "The dropdown menu is populated with indices and corresponding SMILES strings for ease of selection. Upon selecting a different molecule from the dropdown, the 3D visualization will update to show the new molecule. This allows for an intuitive and engaging way to explore the spatial arrangement of atoms and the overall geometry of the molecules, which is crucial for understanding their chemical properties and interactions.\r\n",
    "\r\n",
    "**Instructions:**\r\n",
    "1. Use the dropdown menu to select a molecule. The index of each molecule is shown for easy reference.\r\n",
    "2. The 3D structure of the selected molecule will be displayed below. You can rotate and zoom the structure interactively.\r\n",
    "3. To view a different molecule, simply select another option from the dropdown menu.\r\n"
   ]
  },
  {
   "cell_type": "code",
   "execution_count": 10,
   "id": "a006b8c6-2a4a-4b79-a669-6cdb5195bb6f",
   "metadata": {},
   "outputs": [
    {
     "data": {
      "application/vnd.jupyter.widget-view+json": {
       "model_id": "84a8b0a15b304c8498a0da42d575b2c8",
       "version_major": 2,
       "version_minor": 0
      },
      "text/plain": [
       "Dropdown(description='Select SMILES:', options=(('Index 0: O=C(Oc1ccccc1C(=O)O)c1cccc([N+](=O)[O-])c1', 'O=C(O…"
      ]
     },
     "metadata": {},
     "output_type": "display_data"
    },
    {
     "data": {
      "application/vnd.jupyter.widget-view+json": {
       "model_id": "35b063672f494ac487de7fead2e43bee",
       "version_major": 2,
       "version_minor": 0
      },
      "text/plain": [
       "Output()"
      ]
     },
     "metadata": {},
     "output_type": "display_data"
    }
   ],
   "source": [
    "import ipywidgets as widgets\n",
    "from IPython.display import display, clear_output\n",
    "import py3Dmol\n",
    "\n",
    "def setup_viewer():\n",
    "    viewer = py3Dmol.view(width=400, height=300)\n",
    "    viewer.setBackgroundColor('white')\n",
    "    return viewer\n",
    "\n",
    "viewer = setup_viewer()\n",
    "\n",
    "def show_molecule(mol_smiles, viewer):\n",
    "    if mol_smiles:\n",
    "        mol = Chem.MolFromSmiles(mol_smiles)\n",
    "        mol = Chem.AddHs(mol)  # Add hydrogens\n",
    "        AllChem.EmbedMolecule(mol, randomSeed=42)  # Compute 3D coordinates\n",
    "        mb = Chem.MolToMolBlock(mol)\n",
    "        viewer.removeAllModels()  # Remove previous models\n",
    "        viewer.addModel(mb, 'mol')\n",
    "        viewer.setStyle({'stick': {}})\n",
    "        viewer.zoomTo()\n",
    "        viewer.show()\n",
    "\n",
    "# Create a dropdown to select a molecule by index and SMILES\n",
    "options = [(f'Index {idx}: {smiles}', smiles) for idx, smiles in enumerate(df_ranked['SMILES'])]\n",
    "smiles_dropdown = widgets.Dropdown(\n",
    "    options=options,\n",
    "    value=options[0][1],\n",
    "    description='Select SMILES:',\n",
    "    disabled=False,\n",
    ")\n",
    "\n",
    "output_area = widgets.Output()\n",
    "\n",
    "display(smiles_dropdown, output_area)\n",
    "\n",
    "def on_smiles_change(change):\n",
    "    with output_area:\n",
    "        clear_output(wait=True)  # Clear previous outputs to avoid display clutter\n",
    "        show_molecule(change.new, viewer)\n",
    "\n",
    "# Observe changes in the dropdown\n",
    "smiles_dropdown.observe(on_smiles_change, names='value')\n",
    "\n",
    "# Display the first molecule initially\n",
    "with output_area:\n",
    "    show_molecule(smiles_dropdown.value, viewer)\n"
   ]
  },
  {
   "cell_type": "markdown",
   "id": "7d2433e5-d67c-49a4-a147-71712433461b",
   "metadata": {},
   "source": [
    "## Conclusion\r\n",
    "\r\n",
    "This notebook facilitates the exploration of new molecular entities by providing a streamlined computational workflow that integrates generation, property calculation, and dynamic analysis. By leveraging computational chemistry and machine learning, it assists researchers in identifying novel compounds with potential therapeutic benefits.\r\n"
   ]
  }
 ],
 "metadata": {
  "kernelspec": {
   "display_name": "Python (reinvent4)",
   "language": "python",
   "name": "reinvent4"
  },
  "language_info": {
   "codemirror_mode": {
    "name": "ipython",
    "version": 3
   },
   "file_extension": ".py",
   "mimetype": "text/x-python",
   "name": "python",
   "nbconvert_exporter": "python",
   "pygments_lexer": "ipython3",
   "version": "3.10.14"
  }
 },
 "nbformat": 4,
 "nbformat_minor": 5
}
