{
 "cells": [
  {
   "cell_type": "markdown",
   "id": "6d4c2252-aa69-427f-86b8-e118c0892237",
   "metadata": {},
   "source": [
    "# SMILES Molecule Generation and Analysis\r\n",
    "\r\n",
    "This notebook provides tools for generating new molecular structures from input SMILES (Simplified Molecular Input Line Entry System) strings using the REINVENT framework, and for analyzing these molecules based on various chemical properties using RDKit. The results are ranked to help identify promising drug candidates based on drug-likeness and other ADMET properties.\r\n"
   ]
  },
  {
   "cell_type": "markdown",
   "id": "1b7dc26f-5c3d-41d4-a5ea-accd15d9b367",
   "metadata": {},
   "source": [
    "# Molecule Generation\n",
    "Run the cell below and you will be prompted to enter a SMILES string using the text field below. Upon clicking the \"Generate Molecules\" button, the REINVENT framework will generate new molecular structures as SMILES strings and save them in a file called sampling.csv. This process integrates deep learning models to predict molecular properties and generate novel compounds based on the input structure. "
   ]
  },
  {
   "cell_type": "code",
   "execution_count": 6,
   "id": "45958426-1269-4d19-bd3e-9d98f8b37e62",
   "metadata": {},
   "outputs": [
    {
     "data": {
      "application/vnd.jupyter.widget-view+json": {
       "model_id": "58b984c1e29e45efb3018655eebdf4da",
       "version_major": 2,
       "version_minor": 0
      },
      "text/plain": [
       "Text(value='', description='SMILES:', placeholder='Type your SMILES here')"
      ]
     },
     "metadata": {},
     "output_type": "display_data"
    },
    {
     "data": {
      "application/vnd.jupyter.widget-view+json": {
       "model_id": "2781757a827a497bbaa85c9f1f24e53d",
       "version_major": 2,
       "version_minor": 0
      },
      "text/plain": [
       "Button(description='Generate Molecules', style=ButtonStyle())"
      ]
     },
     "metadata": {},
     "output_type": "display_data"
    },
    {
     "data": {
      "application/vnd.jupyter.widget-view+json": {
       "model_id": "0db6972e934343a89b0963c4280b17b7",
       "version_major": 2,
       "version_minor": 0
      },
      "text/plain": [
       "Output()"
      ]
     },
     "metadata": {},
     "output_type": "display_data"
    }
   ],
   "source": [
    "import ipywidgets as widgets\n",
    "from IPython.display import display\n",
    "\n",
    "# Function to update the SMILES file with user input\n",
    "def update_smiles_file(smiles):\n",
    "    with open('mol2mol.smi', 'w') as file:\n",
    "        file.write(smiles + '\\t' + 'UserInput')\n",
    "\n",
    "# Widget setup\n",
    "smiles_input = widgets.Text(\n",
    "    value='',\n",
    "    placeholder='Type your SMILES here',\n",
    "    description='SMILES:',\n",
    "    disabled=False\n",
    ")\n",
    "button = widgets.Button(description=\"Generate Molecules\")\n",
    "output = widgets.Output()\n",
    "\n",
    "display(smiles_input, button, output)\n",
    "\n",
    "# Button click event handler\n",
    "def on_button_clicked(b):\n",
    "    with output:\n",
    "        print(\"Generating molecules for SMILES: \", smiles_input.value)\n",
    "        # Update the SMILES file with the user's input\n",
    "        update_smiles_file(smiles_input.value)\n",
    "        # Directly run REINVENT from the Jupyter notebook\n",
    "        print(\"Running REINVENT...\")\n",
    "        !reinvent mol2mol.toml\n",
    "\n",
    "button.on_click(on_button_clicked)"
   ]
  },
  {
   "cell_type": "markdown",
   "id": "8b2d6d36-e874-439c-9188-b663c70aef10",
   "metadata": {},
   "source": [
    "## Property Calculation\n",
    "\n",
    "After generating the molecules, the notebook calculates various molecular properties using RDKit. These properties include molecular weight, logP, the number of hydrogen bond donors and acceptors, and topological polar surface area (TPSA). This data is crucial for assessing the drug-likeness of the molecules.\n",
    "## Dynamic Visualization\n",
    "\n",
    "The properties of the generated molecules are displayed below in a dynamic table. You can select which properties to display from the dropdown menu by holding control and clicking on the properties you want displayed. This interactivity allows for a tailored analysis according to specific needs or interests. The results are also saved as a CSV file called smiles_characteristics.csv."
   ]
  },
  {
   "cell_type": "code",
   "execution_count": 11,
   "id": "fea3a45e-c068-439c-b08d-82cc38bd87c7",
   "metadata": {},
   "outputs": [
    {
     "data": {
      "application/vnd.jupyter.widget-view+json": {
       "model_id": "f1cdee77a6324ac0918cd9a168d4b919",
       "version_major": 2,
       "version_minor": 0
      },
      "text/plain": [
       "SelectMultiple(description='Columns', index=(0, 4, 5, 6, 7), options=('SMILES', 'Input_SMILES', 'Tanimoto', 'N…"
      ]
     },
     "metadata": {},
     "output_type": "display_data"
    },
    {
     "data": {
      "application/vnd.jupyter.widget-view+json": {
       "model_id": "61536a17a0804c1988a1c719daecf43a",
       "version_major": 2,
       "version_minor": 0
      },
      "text/plain": [
       "Output()"
      ]
     },
     "metadata": {},
     "output_type": "display_data"
    }
   ],
   "source": [
    "import pandas as pd\n",
    "from rdkit import Chem\n",
    "from rdkit.Chem import Descriptors\n",
    "import ipywidgets as widgets\n",
    "from IPython.display import display, clear_output\n",
    "\n",
    "# Load the CSV file and calculate properties\n",
    "def load_and_compute_properties(csv_file):\n",
    "    df = pd.read_csv(csv_file)\n",
    "    properties = {\n",
    "        'MolWt': Descriptors.MolWt,\n",
    "        'LogP': Descriptors.MolLogP,\n",
    "        'NumHDonors': Descriptors.NumHDonors,\n",
    "        'NumHAcceptors': Descriptors.NumHAcceptors\n",
    "    }\n",
    "    \n",
    "    for prop in properties.keys():\n",
    "        df[prop] = None\n",
    "\n",
    "    for index, row in df.iterrows():\n",
    "        mol = Chem.MolFromSmiles(row['SMILES'])\n",
    "        if mol:\n",
    "            for prop, func in properties.items():\n",
    "                df.at[index, prop] = func(mol)\n",
    "    \n",
    "    return df\n",
    "\n",
    "# Function to display DataFrame in a dynamic table\n",
    "def display_properties_table(dataframe):\n",
    "    # Create a multi-select widget for selecting properties to display\n",
    "    options = list(dataframe.columns)\n",
    "    select_widget = widgets.SelectMultiple(\n",
    "        options=options,\n",
    "        value=['SMILES', 'MolWt', 'LogP', 'NumHDonors', 'NumHAcceptors'],\n",
    "        description='Columns',\n",
    "        disabled=False\n",
    "    )\n",
    "\n",
    "    output_area = widgets.Output()\n",
    "    display(select_widget, output_area)\n",
    "\n",
    "    #Write results to CSV file\n",
    "    dataframe.to_csv('smiles_characteristics.csv', index=False)\n",
    "\n",
    "    def update_table(change):\n",
    "        with output_area:\n",
    "            clear_output(wait=True)  # Clear the previous output\n",
    "            display(dataframe[list(select_widget.value)])  # Display the new table based on selection\n",
    "\n",
    "    select_widget.observe(update_table, names='value')\n",
    "    update_table(None)  # Initialize view\n",
    "\n",
    "# Example usage\n",
    "df_properties = load_and_compute_properties('sampling.csv')\n",
    "display_properties_table(df_properties)\n"
   ]
  },
  {
   "cell_type": "markdown",
   "id": "78bb9e6b-919d-472b-abf9-a2dd4efe9b64",
   "metadata": {},
   "source": [
    "## Ranking and Results Download\r\n",
    "\r\n",
    "The molecules are ranked based on their computed properties, and their scores are calculated to reflect their potential as drug candidates. The table below displays the top-ranked moleculesThe results are also saved as a CSV file called ranked_smiles.csvle for further analysis or reporting.\r\n",
    "\r\n",
    "**Note**: The 'Score' column is a summation of the individual property values and serves as a simplified metric to gauge the overall promise of each molecule as a drug candidate.\r\n"
   ]
  },
  {
   "cell_type": "code",
   "execution_count": 9,
   "id": "81b9331f-039e-4ecf-aa02-1fae86a1ee77",
   "metadata": {},
   "outputs": [
    {
     "data": {
      "application/vnd.jupyter.widget-view+json": {
       "model_id": "87063532654b4b01946bda45c9806ffa",
       "version_major": 2,
       "version_minor": 0
      },
      "text/plain": [
       "SelectMultiple(description='Columns', index=(0, 4, 5, 9, 10, 11, 12), options=('SMILES', 'Input_SMILES', 'Tani…"
      ]
     },
     "metadata": {},
     "output_type": "display_data"
    },
    {
     "data": {
      "application/vnd.jupyter.widget-view+json": {
       "model_id": "ee974dbbd7914b62902068a0b049f11f",
       "version_major": 2,
       "version_minor": 0
      },
      "text/plain": [
       "Output()"
      ]
     },
     "metadata": {},
     "output_type": "display_data"
    }
   ],
   "source": [
    "from rdkit.Chem import Crippen, QED, rdMolDescriptors\n",
    "import numpy as np\n",
    "\n",
    "def calculate_properties(df):\n",
    "    df['Mol'] = df['SMILES'].apply(Chem.MolFromSmiles)\n",
    "    df['MolWt'] = df['Mol'].apply(Descriptors.MolWt)\n",
    "    df['LogP'] = df['Mol'].apply(Crippen.MolLogP)\n",
    "    df['NumHDonors'] = df['Mol'].apply(Descriptors.NumHDonors)\n",
    "    df['NumHAcceptors'] = df['Mol'].apply(Descriptors.NumHAcceptors)\n",
    "    df['TPSA'] = df['Mol'].apply(rdMolDescriptors.CalcTPSA)\n",
    "    df['QED'] = df['Mol'].apply(QED.qed)\n",
    "    \n",
    "    # Lipinski's Rule of Five\n",
    "    df['Ro5'] = ((df['MolWt'] <= 500) & \n",
    "                 (df['LogP'] <= 5) & \n",
    "                 (df['NumHDonors'] <= 5) & \n",
    "                 (df['NumHAcceptors'] <= 10)).astype(int)\n",
    "    \n",
    "    # Simple ranking score (the more rules met, the better)\n",
    "    df['Score'] = df[['MolWt', 'LogP', 'NumHDonors', 'NumHAcceptors', 'TPSA', 'QED', 'Ro5']].sum(axis=1)\n",
    "    return df\n",
    "\n",
    "# Load and calculate properties\n",
    "df_properties = load_and_compute_properties('sampling.csv')\n",
    "df_ranked = calculate_properties(df_properties)\n",
    "\n",
    "# Sort by score (high score = more promising candidate)\n",
    "df_ranked.sort_values(by='Score', ascending=False, inplace=True)\n",
    "\n",
    "def display_ranked_properties(df):\n",
    "    select_widget = widgets.SelectMultiple(\n",
    "        options=list(df.columns),\n",
    "        value=['SMILES', 'MolWt', 'LogP', 'TPSA', 'QED', 'Ro5', 'Score'],\n",
    "        description='Columns',\n",
    "        disabled=False\n",
    "    )\n",
    "\n",
    "    output_area = widgets.Output()\n",
    "    display(select_widget, output_area)\n",
    "\n",
    "    # Save the complete DataFrame to a CSV file\n",
    "    df.to_csv('ranked_smiles.csv', index=False)\n",
    "\n",
    "    def update_table(change):\n",
    "        with output_area:\n",
    "            clear_output(wait=True)\n",
    "            display(df[list(select_widget.value)].head(10))  # Display top 10 molecules\n",
    "\n",
    "    select_widget.observe(update_table, names='value')\n",
    "    update_table(None)  # Initialize view\n",
    "\n",
    "display_ranked_properties(df_ranked)\n"
   ]
  },
  {
   "cell_type": "markdown",
   "id": "7d2433e5-d67c-49a4-a147-71712433461b",
   "metadata": {},
   "source": [
    "## Conclusion\r\n",
    "\r\n",
    "This notebook facilitates the exploration of new molecular entities by providing a streamlined computational workflow that integrates generation, property calculation, and dynamic analysis. By leveraging computational chemistry and machine learning, it assists researchers in identifying novel compounds with potential therapeutic benefits.\r\n"
   ]
  }
 ],
 "metadata": {
  "kernelspec": {
   "display_name": "Python (reinvent4)",
   "language": "python",
   "name": "reinvent4"
  },
  "language_info": {
   "codemirror_mode": {
    "name": "ipython",
    "version": 3
   },
   "file_extension": ".py",
   "mimetype": "text/x-python",
   "name": "python",
   "nbconvert_exporter": "python",
   "pygments_lexer": "ipython3",
   "version": "3.10.14"
  }
 },
 "nbformat": 4,
 "nbformat_minor": 5
}
