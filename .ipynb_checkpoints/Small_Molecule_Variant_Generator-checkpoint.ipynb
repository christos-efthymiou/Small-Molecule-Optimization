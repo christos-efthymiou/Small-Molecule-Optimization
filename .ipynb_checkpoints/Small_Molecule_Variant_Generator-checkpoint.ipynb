{
 "cells": [
  {
   "cell_type": "code",
   "execution_count": 27,
   "id": "45958426-1269-4d19-bd3e-9d98f8b37e62",
   "metadata": {},
   "outputs": [
    {
     "data": {
      "application/vnd.jupyter.widget-view+json": {
       "model_id": "2bc6edaf86bc4083ac281c620e837a88",
       "version_major": 2,
       "version_minor": 0
      },
      "text/plain": [
       "Text(value='', description='SMILES:', placeholder='Type your SMILES here')"
      ]
     },
     "metadata": {},
     "output_type": "display_data"
    },
    {
     "data": {
      "application/vnd.jupyter.widget-view+json": {
       "model_id": "d96387d8db4741e6a9b53cae3f8eaece",
       "version_major": 2,
       "version_minor": 0
      },
      "text/plain": [
       "Button(description='Generate Molecules', style=ButtonStyle())"
      ]
     },
     "metadata": {},
     "output_type": "display_data"
    },
    {
     "data": {
      "application/vnd.jupyter.widget-view+json": {
       "model_id": "b8dc507d3f764aec8466e2ac51899251",
       "version_major": 2,
       "version_minor": 0
      },
      "text/plain": [
       "Output()"
      ]
     },
     "metadata": {},
     "output_type": "display_data"
    }
   ],
   "source": [
    "import ipywidgets as widgets\n",
    "from IPython.display import display\n",
    "import subprocess\n",
    "\n",
    "# Function to update the SMILES file with user input\n",
    "def update_smiles_file(smiles):\n",
    "    with open('mol2mol.smi', 'w') as file:\n",
    "        file.write(smiles + '\\t' + 'UserInput')\n",
    "\n",
    "# Function to run REINVENT\n",
    "#def run_reinvent():\n",
    "#    cmd = 'python ./REINVENT4/reinvent/Reinvent.py -l mol2mol.log mol2mol.toml'\n",
    "#    process = subprocess.run(cmd, shell=True, text=True, capture_output=True)\n",
    "#    print(process.stdout)  # Optionally print any output for debugging\n",
    "#    return process.stdout\n",
    "\n",
    "# Function to run REINVENT\n",
    "def run_reinvent():\n",
    "    cmd = 'python ./REINVENT4/reinvent/Reinvent.py -l mol2mol.log mol2mol.toml'\n",
    "    print(\"Running command:\", cmd)  # Print the command to verify it\n",
    "    process = subprocess.run(cmd, shell=True, text=True, capture_output=True)\n",
    "    print(\"STDOUT:\", process.stdout)  # Print standard output for debugging\n",
    "    print(\"STDERR:\", process.stderr)  # Print errors to identify issues\n",
    "    return process.stdout\n",
    "\n",
    "# Widget setup\n",
    "smiles_input = widgets.Text(\n",
    "    value='',\n",
    "    placeholder='Type your SMILES here',\n",
    "    description='SMILES:',\n",
    "    disabled=False\n",
    ")\n",
    "button = widgets.Button(description=\"Generate Molecules\")\n",
    "output = widgets.Output()\n",
    "\n",
    "display(smiles_input, button, output)\n",
    "\n",
    "# Button click event handler\n",
    "def on_button_clicked(b):\n",
    "    with output:\n",
    "        print(\"Generating molecules for SMILES: \", smiles_input.value)\n",
    "        # Update the SMILES file with the user's input\n",
    "        update_smiles_file(smiles_input.value)\n",
    "        # Call REINVENT to generate molecules\n",
    "        run_reinvent()\n",
    "\n",
    "button.on_click(on_button_clicked)\n"
   ]
  },
  {
   "cell_type": "code",
   "execution_count": 32,
   "id": "209b1919-b901-422c-94d5-fb87e759ebd2",
   "metadata": {},
   "outputs": [
    {
     "name": "stdout",
     "output_type": "stream",
     "text": [
      "Current Directory: C:\\Users\\chris\\OneDrive\\Documents\\GitHub\\Small-Molecule-Optimization\n",
      "Output: \n",
      "Errors: 14:11:18 <INFO> Started REINVENT 4.2.5 (C) AstraZeneca 2017, 2023 on 2024-04-18\n",
      "14:11:18 <INFO> Command line: ./REINVENT4/reinvent/Reinvent.py mol2mol.toml\n",
      "14:11:18 <INFO> Environment loaded from dotenv file\n",
      "14:11:18 <INFO> User chris on host Christos_Laptop\n",
      "14:11:18 <INFO> Python version 3.10.14\n",
      "14:11:18 <INFO> PyTorch version 1.12.1+cu113, git 664058fa83f1d8eede5d66418abff6e20bd76ca8\n",
      "14:11:18 <INFO> PyTorch compiled with CUDA version 11.3\n",
      "14:11:18 <INFO> RDKit version 2022.09.5\n",
      "14:11:18 <INFO> Platform Windows-10-10.0.22631-SP0\n",
      "14:11:20 <INFO> Number of PyTorch CUDA devices 1\n",
      "14:11:20 <INFO> Using CUDA device:0 NVIDIA GeForce RTX 4090 Laptop GPU\n",
      "14:11:20 <INFO> GPU memory: 15062 MiB free, 16375 MiB total\n",
      "14:11:20 <INFO> Writing JSON config file to C:\\Users\\chris\\OneDrive\\Documents\\GitHub\\Small-Molecule-Optimization\\_mol2mol_sampling.json\n",
      "14:11:20 <INFO> Starting Sampling\n",
      "Traceback (most recent call last):\n",
      "  File \"C:\\Users\\chris\\OneDrive\\Documents\\GitHub\\Small-Molecule-Optimization\\REINVENT4\\reinvent\\Reinvent.py\", line 312, in <module>\n",
      "    main()\n",
      "  File \"C:\\Users\\chris\\OneDrive\\Documents\\GitHub\\Small-Molecule-Optimization\\REINVENT4\\reinvent\\Reinvent.py\", line 292, in main\n",
      "    runner(input_config, actual_device, tb_logdir, responder_config)\n",
      "  File \"C:\\Users\\chris\\anaconda3\\envs\\reinvent4\\lib\\site-packages\\reinvent\\runmodes\\samplers\\run_sampling.py\", line 52, in run_sampling\n",
      "    adapter, _, model_type = create_adapter(agent_model_filename, \"inference\", device)\n",
      "  File \"C:\\Users\\chris\\anaconda3\\envs\\reinvent4\\lib\\site-packages\\reinvent\\runmodes\\create_adapter.py\", line 24, in create_adapter\n",
      "    save_dict = torch.load(dict_filename, map_location=\"cpu\")\n",
      "  File \"C:\\Users\\chris\\anaconda3\\envs\\reinvent4\\lib\\site-packages\\torch\\serialization.py\", line 712, in load\n",
      "    return _load(opened_zipfile, map_location, pickle_module, **pickle_load_args)\n",
      "  File \"C:\\Users\\chris\\anaconda3\\envs\\reinvent4\\lib\\site-packages\\torch\\serialization.py\", line 1049, in _load\n",
      "    result = unpickler.load()\n",
      "  File \"C:\\Users\\chris\\anaconda3\\envs\\reinvent4\\lib\\site-packages\\torch\\serialization.py\", line 1042, in find_class\n",
      "    return super().find_class(mod_name, name)\n",
      "  File \"C:\\Users\\chris\\anaconda3\\envs\\reinvent4\\lib\\site-packages\\reinvent\\models\\mol2mol\\models\\vocabulary.py\", line 1\n",
      "    ../../transformer/core/vocabulary.py\n",
      "    ^\n",
      "SyntaxError: invalid syntax\n",
      "\n"
     ]
    }
   ],
   "source": [
    "import subprocess\n",
    "import os\n",
    "\n",
    "# Print the current working directory for reference\n",
    "print(\"Current Directory:\", os.getcwd())\n",
    "\n",
    "# Define the command with the full path to the reinvent executable\n",
    "cmd = 'python ./REINVENT4/reinvent/Reinvent.py mol2mol.toml'\n",
    "\n",
    "# Run the command\n",
    "process = subprocess.run(cmd, shell=True, text=True, capture_output=True)\n",
    "\n",
    "# Print the output and any errors\n",
    "print(\"Output:\", process.stdout)\n",
    "print(\"Errors:\", process.stderr)\n"
   ]
  },
  {
   "cell_type": "code",
   "execution_count": null,
   "id": "81b9331f-039e-4ecf-aa02-1fae86a1ee77",
   "metadata": {},
   "outputs": [],
   "source": []
  }
 ],
 "metadata": {
  "kernelspec": {
   "display_name": "Python 3 (ipykernel)",
   "language": "python",
   "name": "python3"
  },
  "language_info": {
   "codemirror_mode": {
    "name": "ipython",
    "version": 3
   },
   "file_extension": ".py",
   "mimetype": "text/x-python",
   "name": "python",
   "nbconvert_exporter": "python",
   "pygments_lexer": "ipython3",
   "version": "3.11.5"
  }
 },
 "nbformat": 4,
 "nbformat_minor": 5
}
